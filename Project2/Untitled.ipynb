{
 "cells": [
  {
   "cell_type": "code",
   "execution_count": 1,
   "metadata": {
    "collapsed": true
   },
   "outputs": [],
   "source": [
    "import pandas as pd\n",
    "from bs4 import BeautifulSoup\n",
    "from splinter import Browser\n",
    "import requests\n",
    "import time"
   ]
  },
  {
   "cell_type": "code",
   "execution_count": 2,
   "metadata": {
    "collapsed": true
   },
   "outputs": [],
   "source": [
    "executable_path = {'executable_path': 'chromedriver'}\n",
    "browser = Browser('chrome', **executable_path, headless=True)"
   ]
  },
  {
   "cell_type": "code",
   "execution_count": 14,
   "metadata": {},
   "outputs": [],
   "source": [
    "SportsList_url = 'https://en.wikipedia.org/wiki/Summer_Olympic_Games#List_of_Olympic_sports'\n",
    "browser.visit(SportsList_url)\n",
    "soup = BeautifulSoup(browser.html, \"html.parser\")\n",
    "SportsList_table = soup.findAll('td', attrs={'valign':'top'})"
   ]
  },
  {
   "cell_type": "code",
   "execution_count": 24,
   "metadata": {},
   "outputs": [
    {
     "name": "stdout",
     "output_type": "stream",
     "text": [
      "Archery\n",
      "1900–1908, 1920, since 1972\n",
      "Athletics\n",
      "All\n",
      "Badminton\n",
      "Since 1992\n",
      "Baseball\n",
      "1992–2008, since 2020\n",
      "Basketball\n",
      "Since 1936\n",
      "Basque pelota\n",
      "1900\n",
      "Boxing\n",
      "1904, 1908, since 1920\n",
      "Canoeing and kayaking\n",
      "Since 1936\n",
      "Cricket\n",
      "1900\n",
      "Sport climbing\n",
      "2020 only\n",
      "Croquet\n",
      "1900\n",
      "Cycling\n",
      "All\n",
      "Diving\n",
      "Since 1904\n",
      "Equestrian\n",
      "1900, since 1912\n",
      "Fencing\n",
      "All\n",
      "Field hockey\n",
      "1908, 1920, since 1928\n",
      "Football\n",
      "1900–1928, since 1936\n",
      "Golf\n",
      "1900, 1904, since 2016\n",
      "Gymnastics\n",
      "All\n",
      "Handball\n",
      "1936, since 1972\n",
      "Jeu de paume\n",
      "1908\n",
      "Judo\n",
      "1964, since 1972\n",
      "Karate\n",
      "2020 only\n",
      "Lacrosse\n",
      "1904, 1908\n",
      "Modern pentathlon\n",
      "Since 1912\n",
      "Polo\n",
      "1900, 1908, 1920, 1924, 1936\n",
      "Rackets\n",
      "1908\n",
      "Rhythmic gymnastics\n",
      "Since 1984\n",
      "Roque\n",
      "1904\n",
      "Rowing\n",
      "Since 1900\n",
      "Rugby union\n",
      "1900, 1908, 1920, 1924\n",
      "Rugby sevens\n",
      "Since 2016\n",
      "Sailing\n",
      "1900, since 1908\n",
      "Shooting\n",
      "1896, 1900, 1908–1924, since 1932\n",
      "Skateboarding\n",
      "2020 only\n",
      "Softball\n",
      "1996–2008, since 2020\n",
      "Surfing\n",
      "2020 only\n",
      "Swimming\n",
      "All\n",
      "Synchronized Swimming\n",
      "Since 1984\n",
      "Table tennis\n",
      "Since 1988\n",
      "Taekwondo\n",
      "Since 2000\n",
      "Tennis\n",
      "1896–1924, since 1988\n",
      "Trampoline\n",
      "Since 2000\n",
      "Triathlon\n",
      "Since 2000\n",
      "Tug of war\n",
      "1900–1920\n",
      "Volleyball\n",
      "Since 1964\n",
      "Water motorsports\n",
      "1908\n",
      "Water Polo\n",
      "Since 1900\n",
      "Weightlifting\n",
      "1896, 1904, since 1920\n",
      "Wrestling\n",
      "1896, since 1904\n"
     ]
    }
   ],
   "source": [
    "SportsList_parse = []\n",
    "for i in SportsList_table:\n",
    "    for ii in i.table.tbody.findAll('tr')[1:]:\n",
    "        SportName = ii.findAll('td')[0].a.text\n",
    "        print(SportName)\n",
    "        SportYears = ii.findAll('td')[1].text\n",
    "        print(SportYears)\n",
    "        continue"
   ]
  },
  {
   "cell_type": "code",
   "execution_count": null,
   "metadata": {
    "collapsed": true
   },
   "outputs": [],
   "source": []
  }
 ],
 "metadata": {
  "kernelspec": {
   "display_name": "Python 3",
   "language": "python",
   "name": "python3"
  },
  "language_info": {
   "codemirror_mode": {
    "name": "ipython",
    "version": 3
   },
   "file_extension": ".py",
   "mimetype": "text/x-python",
   "name": "python",
   "nbconvert_exporter": "python",
   "pygments_lexer": "ipython3",
   "version": "3.6.2"
  }
 },
 "nbformat": 4,
 "nbformat_minor": 2
}
