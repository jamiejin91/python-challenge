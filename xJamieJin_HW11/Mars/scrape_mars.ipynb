{
 "cells": [
  {
   "cell_type": "code",
   "execution_count": 1,
   "metadata": {
    "collapsed": true
   },
   "outputs": [],
   "source": [
    "import pandas as pd\n",
    "from bs4 import BeautifulSoup\n",
    "from splinter import Browser\n",
    "import requests\n",
    "import time"
   ]
  },
  {
   "cell_type": "code",
   "execution_count": 2,
   "metadata": {
    "collapsed": true
   },
   "outputs": [],
   "source": [
    "executable_path = {'executable_path': 'chromedriver'}\n",
    "browser = Browser('chrome', **executable_path, headless=True)"
   ]
  },
  {
   "cell_type": "code",
   "execution_count": 3,
   "metadata": {},
   "outputs": [
    {
     "name": "stdout",
     "output_type": "stream",
     "text": [
      "\n",
      "title&paragraph complete\n",
      "\n"
     ]
    }
   ],
   "source": [
    "url_1 = 'https://mars.nasa.gov/news/'\n",
    "browser.visit(url_1)\n",
    "soup_1 = BeautifulSoup(browser.html, \"html.parser\")\n",
    "news_title = soup_1.find('div', class_='content_title').find('a').text\n",
    "news_p = soup_1.find('div', class_='article_teaser_body').text\n",
    "print('\\ntitle & paragraph complete\\n')"
   ]
  },
  {
   "cell_type": "code",
   "execution_count": 4,
   "metadata": {},
   "outputs": [
    {
     "name": "stdout",
     "output_type": "stream",
     "text": [
      "\n",
      "image complete\n",
      "\n"
     ]
    }
   ],
   "source": [
    "url_2 = \"https://www.jpl.nasa.gov/spaceimages/?search=&category=Mars\"\n",
    "browser.visit(url_2)\n",
    "browser.click_link_by_partial_text('FULL IMAGE')\n",
    "time.sleep(5)\n",
    "browser.click_link_by_partial_text('more info')\n",
    "soup_2 = BeautifulSoup(browser.html, \"html.parser\")\n",
    "featured_image_url = \"https://www.jpl.nasa.gov{}\".format(soup_2.find('figure', class_='lede').a['href'])\n",
    "print('\\nimage complete\\n')"
   ]
  },
  {
   "cell_type": "code",
   "execution_count": 5,
   "metadata": {},
   "outputs": [
    {
     "name": "stdout",
     "output_type": "stream",
     "text": [
      "\n",
      "weather complete\n",
      "\n"
     ]
    }
   ],
   "source": [
    "url_3 = \"https://twitter.com/marswxreport?lang=en\"\n",
    "browser.visit(url_3)\n",
    "soup_3 = BeautifulSoup(browser.html, 'html.parser')\n",
    "mars_tweets = soup_3.find_all('p', class_=\"TweetTextSize TweetTextSize--normal js-tweet-text tweet-text\")\n",
    "for mars_tweet in mars_tweets:\n",
    "    first_word = mars_tweet.text.split(\" \")[0]\n",
    "    if first_word == \"Sol\":\n",
    "        mars_weather = mars_tweet.text\n",
    "        print('\\nweather complete\\n')\n",
    "        break"
   ]
  },
  {
   "cell_type": "code",
   "execution_count": 6,
   "metadata": {},
   "outputs": [
    {
     "name": "stdout",
     "output_type": "stream",
     "text": [
      "\n",
      "facts complete\n",
      "\n"
     ]
    }
   ],
   "source": [
    "url_4 = \"https://space-facts.com/mars/\"\n",
    "browser.visit(url_4)\n",
    "soup_4 = BeautifulSoup(browser.html, 'html.parser')\n",
    "facts_data = soup_4.find('table', class_=\"tablepress tablepress-id-mars\")\n",
    "df_facts = pd.read_html(str(facts_data))\n",
    "facts_table = df_facts[0].to_html(index=False, header=None, escape=True).replace(\"\\n\", \"\")\n",
    "print('\\nfacts complete\\n')"
   ]
  },
  {
   "cell_type": "code",
   "execution_count": 13,
   "metadata": {},
   "outputs": [
    {
     "name": "stdout",
     "output_type": "stream",
     "text": [
      "\n",
      "hemispheres complete\n",
      "\n"
     ]
    }
   ],
   "source": [
    "url_5 = \"https://astrogeology.usgs.gov/search/results?q=hemisphere+enhanced&k1=target&v1=Mars\"\n",
    "browser.visit(url_5)\n",
    "soup_5 = BeautifulSoup(browser.html, \"html.parser\")\n",
    "hemi_links = soup_5.find('div', class_=\"collapsible results\").find_all('a', href=True)\n",
    "hemisphere_image_urls = []\n",
    "for hemi_link in hemi_links:\n",
    "    browser.visit(\"https://astrogeology.usgs.gov\" + hemi_link['href'])\n",
    "    time.sleep(5)\n",
    "    soup_5_temp = BeautifulSoup(browser.html, 'html.parser')\n",
    "    hemi_title = soup_5_temp.find('h2', class_=\"title\").text\n",
    "    hemi_img = 'https://astrogeology.usgs.gov' + soup_5_temp.find('img',class_='wide-image').get('src')\n",
    "    hemisphere_image_urls.append({'title': hemi_title, 'img_url':hemi_img})\n",
    "print('\\nhemispheres complete\\n')"
   ]
  },
  {
   "cell_type": "code",
   "execution_count": 14,
   "metadata": {
    "collapsed": true
   },
   "outputs": [],
   "source": [
    "final = {\n",
    "        \"id\": 0,\n",
    "        \"news_title\": news_title,\n",
    "        \"news_p\": news_p,\n",
    "        \"featured_image\": featured_image_url,\n",
    "        \"mars_weather\": mars_weather,\n",
    "        \"facts_table\": facts_table,\n",
    "        \"hemisphere_images\": hemisphere_image_urls\n",
    "    }"
   ]
  },
  {
   "cell_type": "code",
   "execution_count": 16,
   "metadata": {},
   "outputs": [
    {
     "data": {
      "text/plain": [
       "{'facts_table': '<table border=\"1\" class=\"dataframe\">  <tbody>    <tr>      <td>Equatorial Diameter:</td>      <td>6,792 km</td>    </tr>    <tr>      <td>Polar Diameter:</td>      <td>6,752 km</td>    </tr>    <tr>      <td>Mass:</td>      <td>6.42 x 10^23 kg (10.7% Earth)</td>    </tr>    <tr>      <td>Moons:</td>      <td>2 (Phobos &amp; Deimos)</td>    </tr>    <tr>      <td>Orbit Distance:</td>      <td>227,943,824 km (1.52 AU)</td>    </tr>    <tr>      <td>Orbit Period:</td>      <td>687 days (1.9 years)</td>    </tr>    <tr>      <td>Surface Temperature:</td>      <td>-153 to 20 °C</td>    </tr>    <tr>      <td>First Record:</td>      <td>2nd millennium BC</td>    </tr>    <tr>      <td>Recorded By:</td>      <td>Egyptian astronomers</td>    </tr>  </tbody></table>',\n",
       " 'featured_image': 'https://www.jpl.nasa.gov/spaceimages/images/largesize/PIA19643_hires.jpg',\n",
       " 'hemisphere_images': [{'img_url': 'https://astrogeology.usgs.gov/cache/images/cfa62af2557222a02478f1fcd781d445_cerberus_enhanced.tif_full.jpg',\n",
       "   'title': 'Cerberus Hemisphere Enhanced'},\n",
       "  {'img_url': 'https://astrogeology.usgs.gov/cache/images/3cdd1cbf5e0813bba925c9030d13b62e_schiaparelli_enhanced.tif_full.jpg',\n",
       "   'title': 'Schiaparelli Hemisphere Enhanced'},\n",
       "  {'img_url': 'https://astrogeology.usgs.gov/cache/images/ae209b4e408bb6c3e67b6af38168cf28_syrtis_major_enhanced.tif_full.jpg',\n",
       "   'title': 'Syrtis Major Hemisphere Enhanced'},\n",
       "  {'img_url': 'https://astrogeology.usgs.gov/cache/images/7cf2da4bf549ed01c17f206327be4db7_valles_marineris_enhanced.tif_full.jpg',\n",
       "   'title': 'Valles Marineris Hemisphere Enhanced'}],\n",
       " 'id': 0,\n",
       " 'mars_weather': 'Sol 1880 (Nov 19, 2017), Sunny, high -30C/-22F, low -79C/-110F, pressure at 8.31 hPa, daylight 05:53-17:36',\n",
       " 'news_p': 'Seasonal dark streaks on Mars that previously were described as possible signs of flowing water have steep slopes that are better matches to dry flow processes...',\n",
       " 'news_title': 'Recurring Martian Streaks: Flowing Sand, Not Water?'}"
      ]
     },
     "execution_count": 16,
     "metadata": {},
     "output_type": "execute_result"
    }
   ],
   "source": [
    "final"
   ]
  },
  {
   "cell_type": "code",
   "execution_count": null,
   "metadata": {
    "collapsed": true
   },
   "outputs": [],
   "source": []
  }
 ],
 "metadata": {
  "kernelspec": {
   "display_name": "Python [conda env:PythonData]",
   "language": "python",
   "name": "conda-env-PythonData-py"
  },
  "language_info": {
   "codemirror_mode": {
    "name": "ipython",
    "version": 3
   },
   "file_extension": ".py",
   "mimetype": "text/x-python",
   "name": "python",
   "nbconvert_exporter": "python",
   "pygments_lexer": "ipython3",
   "version": "3.6.1"
  }
 },
 "nbformat": 4,
 "nbformat_minor": 2
}
