{
 "cells": [
  {
   "cell_type": "code",
   "execution_count": 46,
   "metadata": {
    "collapsed": true
   },
   "outputs": [],
   "source": [
    "# Dependencies\n",
    "import numpy as np\n",
    "import pandas as pd\n",
    "import matplotlib.pyplot as plt \n",
    "import requests\n",
    "from census import Census\n",
    "from us import states\n",
    "import os\n",
    "\n",
    "# Census API Key\n",
    "c = Census(\"5e99f22848e97d5bcc53f03a358b973493473cd9\")"
   ]
  },
  {
   "cell_type": "code",
   "execution_count": 47,
   "metadata": {},
   "outputs": [
    {
     "data": {
      "text/html": [
       "<div>\n",
       "<style>\n",
       "    .dataframe thead tr:only-child th {\n",
       "        text-align: right;\n",
       "    }\n",
       "\n",
       "    .dataframe thead th {\n",
       "        text-align: left;\n",
       "    }\n",
       "\n",
       "    .dataframe tbody tr th {\n",
       "        vertical-align: top;\n",
       "    }\n",
       "</style>\n",
       "<table border=\"1\" class=\"dataframe\">\n",
       "  <thead>\n",
       "    <tr style=\"text-align: right;\">\n",
       "      <th></th>\n",
       "      <th>name</th>\n",
       "      <th>age</th>\n",
       "      <th>sex</th>\n",
       "      <th>ethnicity</th>\n",
       "      <th>height</th>\n",
       "      <th>weight</th>\n",
       "      <th>eye_color</th>\n",
       "      <th>hair_color</th>\n",
       "      <th>NCMEC_case#</th>\n",
       "      <th>case_type</th>\n",
       "      <th>missing_date</th>\n",
       "      <th>missing_city</th>\n",
       "      <th>missing_county</th>\n",
       "      <th>missing_state</th>\n",
       "    </tr>\n",
       "  </thead>\n",
       "  <tbody>\n",
       "    <tr>\n",
       "      <th>0</th>\n",
       "      <td>TENIKA ABREU</td>\n",
       "      <td>17</td>\n",
       "      <td>female</td>\n",
       "      <td>hispanic</td>\n",
       "      <td>70</td>\n",
       "      <td>200</td>\n",
       "      <td>brown</td>\n",
       "      <td>black</td>\n",
       "      <td>1307298</td>\n",
       "      <td>endangeredRunaway</td>\n",
       "      <td>Sep 3, 2017 12:00:00 AM</td>\n",
       "      <td>MORRISTOWN</td>\n",
       "      <td>Morris</td>\n",
       "      <td>NJ</td>\n",
       "    </tr>\n",
       "    <tr>\n",
       "      <th>1</th>\n",
       "      <td>SAAD AMMAL</td>\n",
       "      <td>14</td>\n",
       "      <td>male</td>\n",
       "      <td>black</td>\n",
       "      <td>68</td>\n",
       "      <td>115</td>\n",
       "      <td>brown</td>\n",
       "      <td>brown</td>\n",
       "      <td>1307036</td>\n",
       "      <td>endangeredRunaway</td>\n",
       "      <td>Aug 31, 2017 12:00:00 AM</td>\n",
       "      <td>PATERSON</td>\n",
       "      <td>Passaic</td>\n",
       "      <td>NJ</td>\n",
       "    </tr>\n",
       "    <tr>\n",
       "      <th>2</th>\n",
       "      <td>STEVEN ANDERSON</td>\n",
       "      <td>60</td>\n",
       "      <td>male</td>\n",
       "      <td>white</td>\n",
       "      <td>69</td>\n",
       "      <td>150</td>\n",
       "      <td>blue</td>\n",
       "      <td>brown</td>\n",
       "      <td>815026</td>\n",
       "      <td>endangeredMissing</td>\n",
       "      <td>Apr 7, 1975 12:00:00 AM</td>\n",
       "      <td>NEW LISBON</td>\n",
       "      <td>Burlington</td>\n",
       "      <td>NJ</td>\n",
       "    </tr>\n",
       "    <tr>\n",
       "      <th>3</th>\n",
       "      <td>AMAIA ARMSTEAD WILLIAMS</td>\n",
       "      <td>16</td>\n",
       "      <td>female</td>\n",
       "      <td>black</td>\n",
       "      <td>63</td>\n",
       "      <td>100</td>\n",
       "      <td>brown</td>\n",
       "      <td>black</td>\n",
       "      <td>1305625</td>\n",
       "      <td>endangeredRunaway</td>\n",
       "      <td>Aug 11, 2017 12:00:00 AM</td>\n",
       "      <td>ELIZABETH</td>\n",
       "      <td>Union</td>\n",
       "      <td>NJ</td>\n",
       "    </tr>\n",
       "    <tr>\n",
       "      <th>4</th>\n",
       "      <td>OFIR BEN-HAIM</td>\n",
       "      <td>8</td>\n",
       "      <td>female</td>\n",
       "      <td>white</td>\n",
       "      <td>24</td>\n",
       "      <td>25</td>\n",
       "      <td>brown</td>\n",
       "      <td>brown</td>\n",
       "      <td>1186183</td>\n",
       "      <td>familyAbduct</td>\n",
       "      <td>Mar 25, 2010 12:00:00 AM</td>\n",
       "      <td>FAIR LAWN</td>\n",
       "      <td>Bergen</td>\n",
       "      <td>NJ</td>\n",
       "    </tr>\n",
       "  </tbody>\n",
       "</table>\n",
       "</div>"
      ],
      "text/plain": [
       "                      name  age     sex ethnicity  height  weight eye_color  \\\n",
       "0             TENIKA ABREU   17  female  hispanic      70     200     brown   \n",
       "1               SAAD AMMAL   14    male     black      68     115     brown   \n",
       "2          STEVEN ANDERSON   60    male     white      69     150      blue   \n",
       "3  AMAIA ARMSTEAD WILLIAMS   16  female     black      63     100     brown   \n",
       "4            OFIR BEN-HAIM    8  female     white      24      25     brown   \n",
       "\n",
       "  hair_color  NCMEC_case#          case_type              missing_date  \\\n",
       "0      black      1307298  endangeredRunaway   Sep 3, 2017 12:00:00 AM   \n",
       "1      brown      1307036  endangeredRunaway  Aug 31, 2017 12:00:00 AM   \n",
       "2      brown       815026  endangeredMissing   Apr 7, 1975 12:00:00 AM   \n",
       "3      black      1305625  endangeredRunaway  Aug 11, 2017 12:00:00 AM   \n",
       "4      brown      1186183       familyAbduct  Mar 25, 2010 12:00:00 AM   \n",
       "\n",
       "  missing_city missing_county missing_state  \n",
       "0   MORRISTOWN         Morris            NJ  \n",
       "1     PATERSON        Passaic            NJ  \n",
       "2   NEW LISBON     Burlington            NJ  \n",
       "3    ELIZABETH          Union            NJ  \n",
       "4    FAIR LAWN         Bergen            NJ  "
      ]
     },
     "execution_count": 47,
     "metadata": {},
     "output_type": "execute_result"
    }
   ],
   "source": [
    "# Get the Data Sets from the csv\n",
    "fName = ('/Rutgers/python/DoctorsofData/NCMEC_nj.csv')\n",
    "# Read our Kickstarter data into pandas\n",
    "njdf = pd.read_csv(fName)\n",
    "njdf.head(5)"
   ]
  },
  {
   "cell_type": "code",
   "execution_count": 48,
   "metadata": {
    "collapsed": true
   },
   "outputs": [],
   "source": [
    "# c.sf1.get('NAME', geo={'for': 'tract:*',\n",
    "#                        'in': 'state:{}'.format(states.NJ.fips)})"
   ]
  },
  {
   "cell_type": "code",
   "execution_count": 49,
   "metadata": {
    "collapsed": true
   },
   "outputs": [],
   "source": [
    "# c.sf1.state_county_tract('NAME', states.AK.fips, '170', Census.ALL)"
   ]
  },
  {
   "cell_type": "code",
   "execution_count": 50,
   "metadata": {},
   "outputs": [
    {
     "name": "stdout",
     "output_type": "stream",
     "text": [
      "Empty DataFrame\n",
      "Columns: []\n",
      "Index: []\n"
     ]
    }
   ],
   "source": [
    "# state_county(fields, state_fips, county_fips)\n",
    "cData = pd.DataFrame(c.acs5.state_county((\"B01003_001E\",\"B01002_001E\"), 'NJ','013' ))\n",
    "print(cData)"
   ]
  },
  {
   "cell_type": "code",
   "execution_count": 51,
   "metadata": {},
   "outputs": [
    {
     "name": "stdout",
     "output_type": "stream",
     "text": [
      "33120\n"
     ]
    },
    {
     "data": {
      "text/html": [
       "<div>\n",
       "<style>\n",
       "    .dataframe thead tr:only-child th {\n",
       "        text-align: right;\n",
       "    }\n",
       "\n",
       "    .dataframe thead th {\n",
       "        text-align: left;\n",
       "    }\n",
       "\n",
       "    .dataframe tbody tr th {\n",
       "        vertical-align: top;\n",
       "    }\n",
       "</style>\n",
       "<table border=\"1\" class=\"dataframe\">\n",
       "  <thead>\n",
       "    <tr style=\"text-align: right;\">\n",
       "      <th></th>\n",
       "      <th>Zipcode</th>\n",
       "      <th>Population</th>\n",
       "      <th>Median Age</th>\n",
       "      <th>Household Income</th>\n",
       "      <th>Per Capita Income</th>\n",
       "      <th>Poverty Count</th>\n",
       "      <th>Poverty Rate</th>\n",
       "    </tr>\n",
       "  </thead>\n",
       "  <tbody>\n",
       "    <tr>\n",
       "      <th>0</th>\n",
       "      <td>00601</td>\n",
       "      <td>17982.0</td>\n",
       "      <td>37.6</td>\n",
       "      <td>10816.0</td>\n",
       "      <td>7453.0</td>\n",
       "      <td>10861.0</td>\n",
       "      <td>60.399288</td>\n",
       "    </tr>\n",
       "    <tr>\n",
       "      <th>1</th>\n",
       "      <td>00602</td>\n",
       "      <td>40260.0</td>\n",
       "      <td>39.5</td>\n",
       "      <td>16079.0</td>\n",
       "      <td>8474.0</td>\n",
       "      <td>21720.0</td>\n",
       "      <td>53.949329</td>\n",
       "    </tr>\n",
       "    <tr>\n",
       "      <th>2</th>\n",
       "      <td>00603</td>\n",
       "      <td>52408.0</td>\n",
       "      <td>39.9</td>\n",
       "      <td>16804.0</td>\n",
       "      <td>10179.0</td>\n",
       "      <td>25459.0</td>\n",
       "      <td>48.578461</td>\n",
       "    </tr>\n",
       "    <tr>\n",
       "      <th>3</th>\n",
       "      <td>00606</td>\n",
       "      <td>6331.0</td>\n",
       "      <td>40.8</td>\n",
       "      <td>12512.0</td>\n",
       "      <td>5863.0</td>\n",
       "      <td>4070.0</td>\n",
       "      <td>64.286843</td>\n",
       "    </tr>\n",
       "    <tr>\n",
       "      <th>4</th>\n",
       "      <td>00610</td>\n",
       "      <td>28328.0</td>\n",
       "      <td>40.2</td>\n",
       "      <td>17475.0</td>\n",
       "      <td>8452.0</td>\n",
       "      <td>14005.0</td>\n",
       "      <td>49.438718</td>\n",
       "    </tr>\n",
       "  </tbody>\n",
       "</table>\n",
       "</div>"
      ],
      "text/plain": [
       "  Zipcode  Population  Median Age  Household Income  Per Capita Income  \\\n",
       "0   00601     17982.0        37.6           10816.0             7453.0   \n",
       "1   00602     40260.0        39.5           16079.0             8474.0   \n",
       "2   00603     52408.0        39.9           16804.0            10179.0   \n",
       "3   00606      6331.0        40.8           12512.0             5863.0   \n",
       "4   00610     28328.0        40.2           17475.0             8452.0   \n",
       "\n",
       "   Poverty Count  Poverty Rate  \n",
       "0        10861.0     60.399288  \n",
       "1        21720.0     53.949329  \n",
       "2        25459.0     48.578461  \n",
       "3         4070.0     64.286843  \n",
       "4        14005.0     49.438718  "
      ]
     },
     "execution_count": 51,
     "metadata": {},
     "output_type": "execute_result"
    }
   ],
   "source": [
    "# Run Census Search to retrieve data on all zip codes (2013 ACS5 Census)\n",
    "# See: https://github.com/CommerceDataService/census-wrapper for library documentation\n",
    "# See: https://gist.github.com/afhaque/60558290d6efd892351c4b64e5c01e9b for labels\n",
    "census_data = c.acs5.get((\"NAME\", \"B19013_001E\", \"B01003_001E\", \"B01002_001E\",\n",
    "                          \"B19301_001E\",\n",
    "                          \"B17001_002E\"), {'for': 'zip code tabulation area:*'})\n",
    "\n",
    "# Convert to DataFrame\n",
    "census_pd = pd.DataFrame(census_data)\n",
    "\n",
    "# Column Reordering\n",
    "census_pd = census_pd.rename(columns={\"B01003_001E\": \"Population\", \n",
    "                                      \"B01002_001E\": \"Median Age\",\n",
    "                                      \"B19013_001E\": \"Household Income\",\n",
    "                                      \"B19301_001E\": \"Per Capita Income\",\n",
    "                                      \"B17001_002E\": \"Poverty Count\",\n",
    "                                      \"NAME\": \"Name\", \"zip code tabulation area\": \"Zipcode\"})\n",
    "\n",
    "# Add in Poverty Rate (Poverty Count / Population)\n",
    "census_pd[\"Poverty Rate\"] = 100 * census_pd[\"Poverty Count\"].astype(int) / census_pd[\"Population\"].astype(int)\n",
    "\n",
    "# Final DataFrame\n",
    "census_pd = census_pd[[\"Zipcode\", \"Population\", \"Median Age\", \"Household Income\",\n",
    "                       \"Per Capita Income\", \"Poverty Count\", \"Poverty Rate\"]]\n",
    "# Visualize\n",
    "print(len(census_pd))\n",
    "census_pd.head()"
   ]
  },
  {
   "cell_type": "code",
   "execution_count": 52,
   "metadata": {
    "collapsed": true
   },
   "outputs": [],
   "source": [
    "# Save as a csv\n",
    "# Note to avoid any issues later, use encoding=\"utf-8\"\n",
    "# census_pd.to_csv(\"census_data.csv\", encoding=\"utf-8\", index=False)"
   ]
  },
  {
   "cell_type": "code",
   "execution_count": 53,
   "metadata": {},
   "outputs": [
    {
     "name": "stdout",
     "output_type": "stream",
     "text": [
      "NJ\n"
     ]
    }
   ],
   "source": [
    "print (states.lookup('34').abbr)"
   ]
  },
  {
   "cell_type": "code",
   "execution_count": null,
   "metadata": {
    "collapsed": true
   },
   "outputs": [],
   "source": []
  }
 ],
 "metadata": {
  "anaconda-cloud": {},
  "kernelspec": {
   "display_name": "Python [conda env:PythonData]",
   "language": "python",
   "name": "conda-env-PythonData-py"
  },
  "language_info": {
   "codemirror_mode": {
    "name": "ipython",
    "version": 3
   },
   "file_extension": ".py",
   "mimetype": "text/x-python",
   "name": "python",
   "nbconvert_exporter": "python",
   "pygments_lexer": "ipython3",
   "version": "3.6.1"
  }
 },
 "nbformat": 4,
 "nbformat_minor": 1
}
